{
 "cells": [
  {
   "cell_type": "markdown",
   "metadata": {},
   "source": [
    "# Detecção de Spam em SMS com Federated Learning\n",
    "\n",
    "Trabalho de Proteção da Privacidade no Aprendizado de Máquina\n",
    "\n",
    "**Integrantes:**\n",
    "\n",
    "Ana Flávia de Matos Souza - 2020006353\n",
    "\n",
    "Carlos Magalhães Silva - 2021421885\n",
    "\n",
    "Henrique da Fonseca Diniz Freitas - 2021031688\n",
    "\n",
    "Renato Silva Santos - 2020006981\n",
    "\n",
    "**Tema:** Detecção de spam em SMS usando Federated Learning\n"
   ]
  },
  {
   "cell_type": "markdown",
   "metadata": {},
   "source": [
    "## 1. Instalação de Dependências\n",
    "Execute esta célula apenas uma vez."
   ]
  },
  {
   "cell_type": "code",
   "execution_count": 2,
   "metadata": {},
   "outputs": [
    {
     "name": "stdout",
     "output_type": "stream",
     "text": [
      "Requirement already satisfied: flwr in c:\\users\\henri\\appdata\\local\\programs\\python\\python311\\lib\\site-packages (1.19.0)\n",
      "Requirement already satisfied: scikit-learn in c:\\users\\henri\\appdata\\local\\programs\\python\\python311\\lib\\site-packages (1.7.0)\n",
      "Requirement already satisfied: pandas in c:\\users\\henri\\appdata\\local\\programs\\python\\python311\\lib\\site-packages (2.3.0)\n",
      "Requirement already satisfied: numpy in c:\\users\\henri\\appdata\\local\\programs\\python\\python311\\lib\\site-packages (2.1.3)\n",
      "Requirement already satisfied: tensorflow in c:\\users\\henri\\appdata\\local\\programs\\python\\python311\\lib\\site-packages (2.19.0)\n",
      "Requirement already satisfied: matplotlib in c:\\users\\henri\\appdata\\local\\programs\\python\\python311\\lib\\site-packages (3.10.3)\n",
      "Requirement already satisfied: seaborn in c:\\users\\henri\\appdata\\local\\programs\\python\\python311\\lib\\site-packages (0.13.2)\n",
      "Requirement already satisfied: click<8.2.0 in c:\\users\\henri\\appdata\\local\\programs\\python\\python311\\lib\\site-packages (from flwr) (8.1.8)\n",
      "Requirement already satisfied: cryptography<45.0.0,>=44.0.1 in c:\\users\\henri\\appdata\\local\\programs\\python\\python311\\lib\\site-packages (from flwr) (44.0.3)\n",
      "Requirement already satisfied: grpcio!=1.65.0,<2.0.0,>=1.62.3 in c:\\users\\henri\\appdata\\local\\programs\\python\\python311\\lib\\site-packages (from flwr) (1.73.0)\n",
      "Requirement already satisfied: iterators<0.0.3,>=0.0.2 in c:\\users\\henri\\appdata\\local\\programs\\python\\python311\\lib\\site-packages (from flwr) (0.0.2)\n",
      "Requirement already satisfied: pathspec<0.13.0,>=0.12.1 in c:\\users\\henri\\appdata\\local\\programs\\python\\python311\\lib\\site-packages (from flwr) (0.12.1)\n",
      "Requirement already satisfied: protobuf<5.0.0,>=4.21.6 in c:\\users\\henri\\appdata\\local\\programs\\python\\python311\\lib\\site-packages (from flwr) (4.25.8)\n",
      "Requirement already satisfied: pycryptodome<4.0.0,>=3.18.0 in c:\\users\\henri\\appdata\\local\\programs\\python\\python311\\lib\\site-packages (from flwr) (3.23.0)\n",
      "Requirement already satisfied: pyyaml<7.0.0,>=6.0.2 in c:\\users\\henri\\appdata\\local\\programs\\python\\python311\\lib\\site-packages (from flwr) (6.0.2)\n",
      "Requirement already satisfied: requests<3.0.0,>=2.31.0 in c:\\users\\henri\\appdata\\local\\programs\\python\\python311\\lib\\site-packages (from flwr) (2.32.4)\n",
      "Requirement already satisfied: rich<14.0.0,>=13.5.0 in c:\\users\\henri\\appdata\\local\\programs\\python\\python311\\lib\\site-packages (from flwr) (13.9.4)\n",
      "Requirement already satisfied: tomli<3.0.0,>=2.0.1 in c:\\users\\henri\\appdata\\local\\programs\\python\\python311\\lib\\site-packages (from flwr) (2.2.1)\n",
      "Requirement already satisfied: tomli-w<2.0.0,>=1.0.0 in c:\\users\\henri\\appdata\\local\\programs\\python\\python311\\lib\\site-packages (from flwr) (1.2.0)\n",
      "Requirement already satisfied: typer<0.13.0,>=0.12.5 in c:\\users\\henri\\appdata\\local\\programs\\python\\python311\\lib\\site-packages (from flwr) (0.12.5)\n",
      "Requirement already satisfied: scipy>=1.8.0 in c:\\users\\henri\\appdata\\local\\programs\\python\\python311\\lib\\site-packages (from scikit-learn) (1.15.3)\n",
      "Requirement already satisfied: joblib>=1.2.0 in c:\\users\\henri\\appdata\\local\\programs\\python\\python311\\lib\\site-packages (from scikit-learn) (1.5.1)\n",
      "Requirement already satisfied: threadpoolctl>=3.1.0 in c:\\users\\henri\\appdata\\local\\programs\\python\\python311\\lib\\site-packages (from scikit-learn) (3.6.0)\n",
      "Requirement already satisfied: python-dateutil>=2.8.2 in c:\\users\\henri\\appdata\\roaming\\python\\python311\\site-packages (from pandas) (2.9.0.post0)\n",
      "Requirement already satisfied: pytz>=2020.1 in c:\\users\\henri\\appdata\\local\\programs\\python\\python311\\lib\\site-packages (from pandas) (2025.2)\n",
      "Requirement already satisfied: tzdata>=2022.7 in c:\\users\\henri\\appdata\\local\\programs\\python\\python311\\lib\\site-packages (from pandas) (2025.2)\n",
      "Requirement already satisfied: absl-py>=1.0.0 in c:\\users\\henri\\appdata\\local\\programs\\python\\python311\\lib\\site-packages (from tensorflow) (2.3.0)\n",
      "Requirement already satisfied: astunparse>=1.6.0 in c:\\users\\henri\\appdata\\local\\programs\\python\\python311\\lib\\site-packages (from tensorflow) (1.6.3)\n",
      "Requirement already satisfied: flatbuffers>=24.3.25 in c:\\users\\henri\\appdata\\local\\programs\\python\\python311\\lib\\site-packages (from tensorflow) (25.2.10)\n",
      "Requirement already satisfied: gast!=0.5.0,!=0.5.1,!=0.5.2,>=0.2.1 in c:\\users\\henri\\appdata\\local\\programs\\python\\python311\\lib\\site-packages (from tensorflow) (0.6.0)\n",
      "Requirement already satisfied: google-pasta>=0.1.1 in c:\\users\\henri\\appdata\\local\\programs\\python\\python311\\lib\\site-packages (from tensorflow) (0.2.0)\n",
      "Requirement already satisfied: libclang>=13.0.0 in c:\\users\\henri\\appdata\\local\\programs\\python\\python311\\lib\\site-packages (from tensorflow) (18.1.1)\n",
      "Requirement already satisfied: opt-einsum>=2.3.2 in c:\\users\\henri\\appdata\\local\\programs\\python\\python311\\lib\\site-packages (from tensorflow) (3.4.0)\n",
      "Requirement already satisfied: packaging in c:\\users\\henri\\appdata\\roaming\\python\\python311\\site-packages (from tensorflow) (25.0)\n",
      "Requirement already satisfied: setuptools in c:\\users\\henri\\appdata\\local\\programs\\python\\python311\\lib\\site-packages (from tensorflow) (65.5.0)\n",
      "Requirement already satisfied: six>=1.12.0 in c:\\users\\henri\\appdata\\roaming\\python\\python311\\site-packages (from tensorflow) (1.17.0)\n",
      "Requirement already satisfied: termcolor>=1.1.0 in c:\\users\\henri\\appdata\\local\\programs\\python\\python311\\lib\\site-packages (from tensorflow) (3.1.0)\n",
      "Requirement already satisfied: typing-extensions>=3.6.6 in c:\\users\\henri\\appdata\\roaming\\python\\python311\\site-packages (from tensorflow) (4.14.0)\n",
      "Requirement already satisfied: wrapt>=1.11.0 in c:\\users\\henri\\appdata\\local\\programs\\python\\python311\\lib\\site-packages (from tensorflow) (1.17.2)\n",
      "Requirement already satisfied: tensorboard~=2.19.0 in c:\\users\\henri\\appdata\\local\\programs\\python\\python311\\lib\\site-packages (from tensorflow) (2.19.0)\n",
      "Requirement already satisfied: keras>=3.5.0 in c:\\users\\henri\\appdata\\local\\programs\\python\\python311\\lib\\site-packages (from tensorflow) (3.10.0)\n",
      "Requirement already satisfied: h5py>=3.11.0 in c:\\users\\henri\\appdata\\local\\programs\\python\\python311\\lib\\site-packages (from tensorflow) (3.14.0)\n",
      "Requirement already satisfied: ml-dtypes<1.0.0,>=0.5.1 in c:\\users\\henri\\appdata\\local\\programs\\python\\python311\\lib\\site-packages (from tensorflow) (0.5.1)\n",
      "Requirement already satisfied: tensorflow-io-gcs-filesystem>=0.23.1 in c:\\users\\henri\\appdata\\local\\programs\\python\\python311\\lib\\site-packages (from tensorflow) (0.31.0)\n",
      "Requirement already satisfied: contourpy>=1.0.1 in c:\\users\\henri\\appdata\\local\\programs\\python\\python311\\lib\\site-packages (from matplotlib) (1.3.2)\n",
      "Requirement already satisfied: cycler>=0.10 in c:\\users\\henri\\appdata\\local\\programs\\python\\python311\\lib\\site-packages (from matplotlib) (0.12.1)\n",
      "Requirement already satisfied: fonttools>=4.22.0 in c:\\users\\henri\\appdata\\local\\programs\\python\\python311\\lib\\site-packages (from matplotlib) (4.58.4)\n",
      "Requirement already satisfied: kiwisolver>=1.3.1 in c:\\users\\henri\\appdata\\local\\programs\\python\\python311\\lib\\site-packages (from matplotlib) (1.4.8)\n",
      "Requirement already satisfied: pillow>=8 in c:\\users\\henri\\appdata\\local\\programs\\python\\python311\\lib\\site-packages (from matplotlib) (11.2.1)\n",
      "Requirement already satisfied: pyparsing>=2.3.1 in c:\\users\\henri\\appdata\\local\\programs\\python\\python311\\lib\\site-packages (from matplotlib) (3.2.3)\n",
      "Requirement already satisfied: wheel<1.0,>=0.23.0 in c:\\users\\henri\\appdata\\local\\programs\\python\\python311\\lib\\site-packages (from astunparse>=1.6.0->tensorflow) (0.45.1)\n",
      "Requirement already satisfied: colorama in c:\\users\\henri\\appdata\\roaming\\python\\python311\\site-packages (from click<8.2.0->flwr) (0.4.6)\n",
      "Requirement already satisfied: cffi>=1.12 in c:\\users\\henri\\appdata\\local\\programs\\python\\python311\\lib\\site-packages (from cryptography<45.0.0,>=44.0.1->flwr) (1.17.1)\n",
      "Requirement already satisfied: namex in c:\\users\\henri\\appdata\\local\\programs\\python\\python311\\lib\\site-packages (from keras>=3.5.0->tensorflow) (0.1.0)\n",
      "Requirement already satisfied: optree in c:\\users\\henri\\appdata\\local\\programs\\python\\python311\\lib\\site-packages (from keras>=3.5.0->tensorflow) (0.16.0)\n",
      "Requirement already satisfied: charset_normalizer<4,>=2 in c:\\users\\henri\\appdata\\local\\programs\\python\\python311\\lib\\site-packages (from requests<3.0.0,>=2.31.0->flwr) (3.4.2)\n",
      "Requirement already satisfied: idna<4,>=2.5 in c:\\users\\henri\\appdata\\local\\programs\\python\\python311\\lib\\site-packages (from requests<3.0.0,>=2.31.0->flwr) (3.10)\n",
      "Requirement already satisfied: urllib3<3,>=1.21.1 in c:\\users\\henri\\appdata\\local\\programs\\python\\python311\\lib\\site-packages (from requests<3.0.0,>=2.31.0->flwr) (2.5.0)\n",
      "Requirement already satisfied: certifi>=2017.4.17 in c:\\users\\henri\\appdata\\local\\programs\\python\\python311\\lib\\site-packages (from requests<3.0.0,>=2.31.0->flwr) (2025.6.15)\n",
      "Requirement already satisfied: markdown-it-py>=2.2.0 in c:\\users\\henri\\appdata\\local\\programs\\python\\python311\\lib\\site-packages (from rich<14.0.0,>=13.5.0->flwr) (3.0.0)\n",
      "Requirement already satisfied: pygments<3.0.0,>=2.13.0 in c:\\users\\henri\\appdata\\roaming\\python\\python311\\site-packages (from rich<14.0.0,>=13.5.0->flwr) (2.19.1)\n",
      "Requirement already satisfied: markdown>=2.6.8 in c:\\users\\henri\\appdata\\local\\programs\\python\\python311\\lib\\site-packages (from tensorboard~=2.19.0->tensorflow) (3.8.2)\n",
      "Requirement already satisfied: tensorboard-data-server<0.8.0,>=0.7.0 in c:\\users\\henri\\appdata\\local\\programs\\python\\python311\\lib\\site-packages (from tensorboard~=2.19.0->tensorflow) (0.7.2)\n",
      "Requirement already satisfied: werkzeug>=1.0.1 in c:\\users\\henri\\appdata\\local\\programs\\python\\python311\\lib\\site-packages (from tensorboard~=2.19.0->tensorflow) (3.1.3)\n",
      "Requirement already satisfied: shellingham>=1.3.0 in c:\\users\\henri\\appdata\\local\\programs\\python\\python311\\lib\\site-packages (from typer<0.13.0,>=0.12.5->flwr) (1.5.4)\n",
      "Requirement already satisfied: pycparser in c:\\users\\henri\\appdata\\local\\programs\\python\\python311\\lib\\site-packages (from cffi>=1.12->cryptography<45.0.0,>=44.0.1->flwr) (2.22)\n",
      "Requirement already satisfied: mdurl~=0.1 in c:\\users\\henri\\appdata\\local\\programs\\python\\python311\\lib\\site-packages (from markdown-it-py>=2.2.0->rich<14.0.0,>=13.5.0->flwr) (0.1.2)\n",
      "Requirement already satisfied: MarkupSafe>=2.1.1 in c:\\users\\henri\\appdata\\local\\programs\\python\\python311\\lib\\site-packages (from werkzeug>=1.0.1->tensorboard~=2.19.0->tensorflow) (3.0.2)\n",
      "Note: you may need to restart the kernel to use updated packages.\n"
     ]
    },
    {
     "name": "stderr",
     "output_type": "stream",
     "text": [
      "\n",
      "[notice] A new release of pip available: 22.3 -> 25.1.1\n",
      "[notice] To update, run: python.exe -m pip install --upgrade pip\n"
     ]
    }
   ],
   "source": [
    "%pip install flwr scikit-learn pandas numpy tensorflow matplotlib seaborn"
   ]
  },
  {
   "cell_type": "code",
   "execution_count": 3,
   "metadata": {},
   "outputs": [],
   "source": [
    "import pandas as pd\n",
    "import numpy as np\n",
    "from sklearn.model_selection import train_test_split\n",
    "from sklearn.feature_extraction.text import TfidfVectorizer"
   ]
  },
  {
   "cell_type": "markdown",
   "metadata": {},
   "source": [
    "## 2. Carregamento e Pré-processamento dos Dados"
   ]
  },
  {
   "cell_type": "code",
   "execution_count": 4,
   "metadata": {},
   "outputs": [
    {
     "name": "stdout",
     "output_type": "stream",
     "text": [
      "teste\n"
     ]
    }
   ],
   "source": [
    "print(\"teste\")"
   ]
  },
  {
   "cell_type": "code",
   "execution_count": 5,
   "metadata": {},
   "outputs": [],
   "source": [
    "\n",
    "\n",
    "sms_df = pd.read_csv('./data/spam_kaggle.csv', encoding='latin-1')[['v1', 'v2']]\n",
    "sms_df.columns = ['label', 'text']\n",
    "sms_df['label'] = sms_df['label'].map({'ham': 0, 'spam': 1})\n",
    "\n",
    "# Pré-processamento simples\n",
    "sms_df['text'] = sms_df['text'].str.lower().str.replace('[^a-z0-9 ]', ' ', regex=True)\n",
    "\n",
    "# Vetorização\n",
    "vectorizer = TfidfVectorizer(max_features=1000)\n",
    "X = vectorizer.fit_transform(sms_df['text']).toarray() # type: ignore\n",
    "y = sms_df['label'].values\n",
    "\n",
    "# Divisão\n",
    "X_train, X_test, y_train, y_test = train_test_split(X, y, test_size=0.2, random_state=42)\n"
   ]
  },
  {
   "cell_type": "markdown",
   "metadata": {},
   "source": [
    "## 3. Aprendizado Federado com Regressão Logística"
   ]
  },
  {
   "cell_type": "code",
   "execution_count": 6,
   "metadata": {},
   "outputs": [],
   "source": [
    "import flwr as fl\n",
    "from sklearn.linear_model import LogisticRegression\n",
    "\n",
    "class FederatedClient(fl.client.NumPyClient):\n",
    "    def __init__(self, X_train, y_train, X_test, y_test):\n",
    "        self.model = LogisticRegression(max_iter=1000)\n",
    "        self.X_train = X_train\n",
    "        self.y_train = y_train\n",
    "        self.X_test = X_test\n",
    "        self.y_test = y_test\n",
    "    def get_parameters(self, config):\n",
    "        return [self.model.coef_, self.model.intercept_]\n",
    "    def fit(self, parameters, config):\n",
    "        self.model.coef_ = parameters[0]\n",
    "        self.model.intercept_ = parameters[1]\n",
    "        self.model.fit(self.X_train, self.y_train)\n",
    "        return self.get_parameters(config), len(self.X_train), {}\n",
    "    def evaluate(self, parameters, config):\n",
    "        self.model.coef_ = parameters[0]\n",
    "        self.model.intercept_ = parameters[1]\n",
    "        loss = np.mean(self.model.predict(self.X_test) != self.y_test)\n",
    "        return float(loss), len(self.X_test), {}\n"
   ]
  },
  {
   "cell_type": "markdown",
   "metadata": {},
   "source": [
    "### Simulação de Clientes Federados"
   ]
  },
  {
   "cell_type": "code",
   "execution_count": 7,
   "metadata": {},
   "outputs": [],
   "source": [
    "# Simule 3 clientes\n",
    "n_clients = 3\n",
    "X_splits = np.array_split(X_train, n_clients)\n",
    "y_splits = np.array_split(y_train, n_clients)\n",
    "\n",
    "clients = [FederatedClient(X_splits[i], y_splits[i], X_test, y_test) for i in range(n_clients)]\n",
    "\n",
    "# Para rodar o servidor federado (em ambiente real, rodaria processos separados)\n",
    "# Aqui apenas exemplificamos a estrutura, pois o Flower precisa de múltiplos processos\n",
    "# fl.server.start_server(config=fl.server.ServerConfig(num_rounds=3))\n"
   ]
  },
  {
   "cell_type": "markdown",
   "metadata": {},
   "source": [
    "## 4. Métricas Avançadas"
   ]
  },
  {
   "cell_type": "code",
   "execution_count": 8,
   "metadata": {},
   "outputs": [],
   "source": [
    "from sklearn.metrics import accuracy_score, precision_score, recall_score, f1_score, roc_auc_score, confusion_matrix\n",
    "import matplotlib.pyplot as plt\n",
    "import seaborn as sns\n",
    "\n",
    "def evaluate_metrics(model, X_test, y_test):\n",
    "    y_pred = model.predict(X_test)\n",
    "    y_proba = model.predict_proba(X_test)[:,1] if hasattr(model, 'predict_proba') else y_pred\n",
    "    print('Acurácia:', accuracy_score(y_test, y_pred))\n",
    "    print('Precisão:', precision_score(y_test, y_pred))\n",
    "    print('Recall:', recall_score(y_test, y_pred))\n",
    "    print('F1:', f1_score(y_test, y_pred))\n",
    "    print('AUC-ROC:', roc_auc_score(y_test, y_proba))\n",
    "    cm = confusion_matrix(y_test, y_pred)\n",
    "    sns.heatmap(cm, annot=True, fmt='d', cmap='Blues')\n",
    "    plt.xlabel('Predito')\n",
    "    plt.ylabel('Real')\n",
    "    plt.title('Matriz de Confusão')\n",
    "    plt.show()\n"
   ]
  },
  {
   "cell_type": "markdown",
   "metadata": {},
   "source": [
    "## 5. Fase 2: Redes Neurais (MLP e LSTM)"
   ]
  },
  {
   "cell_type": "code",
   "execution_count": 12,
   "metadata": {},
   "outputs": [],
   "source": [
    "import tensorflow as tf\n",
    "from tensorflow.keras.models import Sequential\n",
    "from tensorflow.keras.layers import Dense, Embedding, GlobalAveragePooling1D, LSTM\n",
    "from tensorflow.keras.preprocessing.text import Tokenizer\n",
    "from tensorflow.keras.preprocessing.sequence import pad_sequences\n",
    "\n",
    "# Tokenização\n",
    "tokenizer = Tokenizer(num_words=1000)\n",
    "tokenizer.fit_on_texts(sms_df['text'])\n",
    "seqs = tokenizer.texts_to_sequences(sms_df['text'])\n",
    "X_pad = pad_sequences(seqs, maxlen=50)\n",
    "\n",
    "X_train_nn, X_test_nn, y_train_nn, y_test_nn = train_test_split(X_pad, y, test_size=0.2, random_state=42)\n"
   ]
  },
  {
   "cell_type": "code",
   "execution_count": 11,
   "metadata": {},
   "outputs": [
    {
     "data": {
      "text/html": [
       "<div>\n",
       "<style scoped>\n",
       "    .dataframe tbody tr th:only-of-type {\n",
       "        vertical-align: middle;\n",
       "    }\n",
       "\n",
       "    .dataframe tbody tr th {\n",
       "        vertical-align: top;\n",
       "    }\n",
       "\n",
       "    .dataframe thead th {\n",
       "        text-align: right;\n",
       "    }\n",
       "</style>\n",
       "<table border=\"1\" class=\"dataframe\">\n",
       "  <thead>\n",
       "    <tr style=\"text-align: right;\">\n",
       "      <th></th>\n",
       "      <th>label</th>\n",
       "      <th>text</th>\n",
       "    </tr>\n",
       "  </thead>\n",
       "  <tbody>\n",
       "    <tr>\n",
       "      <th>0</th>\n",
       "      <td>0</td>\n",
       "      <td>go until jurong point  crazy   available only ...</td>\n",
       "    </tr>\n",
       "    <tr>\n",
       "      <th>1</th>\n",
       "      <td>0</td>\n",
       "      <td>ok lar    joking wif u oni</td>\n",
       "    </tr>\n",
       "    <tr>\n",
       "      <th>2</th>\n",
       "      <td>1</td>\n",
       "      <td>free entry in 2 a wkly comp to win fa cup fina...</td>\n",
       "    </tr>\n",
       "    <tr>\n",
       "      <th>3</th>\n",
       "      <td>0</td>\n",
       "      <td>u dun say so early hor    u c already then say</td>\n",
       "    </tr>\n",
       "    <tr>\n",
       "      <th>4</th>\n",
       "      <td>0</td>\n",
       "      <td>nah i don t think he goes to usf  he lives aro...</td>\n",
       "    </tr>\n",
       "  </tbody>\n",
       "</table>\n",
       "</div>"
      ],
      "text/plain": [
       "   label                                               text\n",
       "0      0  go until jurong point  crazy   available only ...\n",
       "1      0                      ok lar    joking wif u oni   \n",
       "2      1  free entry in 2 a wkly comp to win fa cup fina...\n",
       "3      0  u dun say so early hor    u c already then say   \n",
       "4      0  nah i don t think he goes to usf  he lives aro..."
      ]
     },
     "execution_count": 11,
     "metadata": {},
     "output_type": "execute_result"
    }
   ],
   "source": [
    "sms_df.head()"
   ]
  },
  {
   "cell_type": "markdown",
   "metadata": {},
   "source": [
    "### MLP"
   ]
  },
  {
   "cell_type": "code",
   "execution_count": 13,
   "metadata": {},
   "outputs": [
    {
     "name": "stdout",
     "output_type": "stream",
     "text": [
      "Epoch 1/5\n"
     ]
    },
    {
     "name": "stderr",
     "output_type": "stream",
     "text": [
      "c:\\Users\\henri\\AppData\\Local\\Programs\\Python\\Python311\\Lib\\site-packages\\keras\\src\\layers\\core\\embedding.py:97: UserWarning: Argument `input_length` is deprecated. Just remove it.\n",
      "  warnings.warn(\n"
     ]
    },
    {
     "name": "stdout",
     "output_type": "stream",
     "text": [
      "\u001b[1m112/112\u001b[0m \u001b[32m━━━━━━━━━━━━━━━━━━━━\u001b[0m\u001b[37m\u001b[0m \u001b[1m2s\u001b[0m 5ms/step - accuracy: 0.8695 - loss: 0.4437 - val_accuracy: 0.8621 - val_loss: 0.3531\n",
      "Epoch 2/5\n",
      "\u001b[1m112/112\u001b[0m \u001b[32m━━━━━━━━━━━━━━━━━━━━\u001b[0m\u001b[37m\u001b[0m \u001b[1m0s\u001b[0m 3ms/step - accuracy: 0.8675 - loss: 0.3347 - val_accuracy: 0.8621 - val_loss: 0.3044\n",
      "Epoch 3/5\n",
      "\u001b[1m112/112\u001b[0m \u001b[32m━━━━━━━━━━━━━━━━━━━━\u001b[0m\u001b[37m\u001b[0m \u001b[1m0s\u001b[0m 3ms/step - accuracy: 0.8802 - loss: 0.2555 - val_accuracy: 0.9529 - val_loss: 0.1437\n",
      "Epoch 4/5\n",
      "\u001b[1m112/112\u001b[0m \u001b[32m━━━━━━━━━━━━━━━━━━━━\u001b[0m\u001b[37m\u001b[0m \u001b[1m0s\u001b[0m 3ms/step - accuracy: 0.9638 - loss: 0.1211 - val_accuracy: 0.9753 - val_loss: 0.0738\n",
      "Epoch 5/5\n",
      "\u001b[1m112/112\u001b[0m \u001b[32m━━━━━━━━━━━━━━━━━━━━\u001b[0m\u001b[37m\u001b[0m \u001b[1m0s\u001b[0m 3ms/step - accuracy: 0.9796 - loss: 0.0627 - val_accuracy: 0.9619 - val_loss: 0.1175\n",
      "\u001b[1m35/35\u001b[0m \u001b[32m━━━━━━━━━━━━━━━━━━━━\u001b[0m\u001b[37m\u001b[0m \u001b[1m0s\u001b[0m 3ms/step\n",
      "MLP\n",
      "Acurácia: 0.95695067264574\n",
      "F1: 0.8095238095238095\n"
     ]
    }
   ],
   "source": [
    "mlp = Sequential([\n",
    "    Embedding(1000, 32, input_length=50),\n",
    "    GlobalAveragePooling1D(),\n",
    "    Dense(64, activation='relu'),\n",
    "    Dense(1, activation='sigmoid')\n",
    "])\n",
    "mlp.compile(optimizer='adam', loss='binary_crossentropy', metrics=['accuracy'])\n",
    "mlp.fit(X_train_nn, y_train_nn, epochs=5, validation_split=0.2)\n",
    "\n",
    "# Avaliação\n",
    "y_pred_mlp = (mlp.predict(X_test_nn) > 0.5).astype('int32')\n",
    "print('MLP')\n",
    "print('Acurácia:', accuracy_score(y_test_nn, y_pred_mlp))\n",
    "print('F1:', f1_score(y_test_nn, y_pred_mlp))\n"
   ]
  },
  {
   "cell_type": "markdown",
   "metadata": {},
   "source": [
    "### LSTM"
   ]
  },
  {
   "cell_type": "code",
   "execution_count": 14,
   "metadata": {},
   "outputs": [
    {
     "name": "stdout",
     "output_type": "stream",
     "text": [
      "Epoch 1/5\n"
     ]
    },
    {
     "name": "stderr",
     "output_type": "stream",
     "text": [
      "c:\\Users\\henri\\AppData\\Local\\Programs\\Python\\Python311\\Lib\\site-packages\\keras\\src\\layers\\core\\embedding.py:97: UserWarning: Argument `input_length` is deprecated. Just remove it.\n",
      "  warnings.warn(\n"
     ]
    },
    {
     "name": "stdout",
     "output_type": "stream",
     "text": [
      "\u001b[1m112/112\u001b[0m \u001b[32m━━━━━━━━━━━━━━━━━━━━\u001b[0m\u001b[37m\u001b[0m \u001b[1m4s\u001b[0m 18ms/step - accuracy: 0.8615 - loss: 0.4327 - val_accuracy: 0.9787 - val_loss: 0.1335\n",
      "Epoch 2/5\n",
      "\u001b[1m112/112\u001b[0m \u001b[32m━━━━━━━━━━━━━━━━━━━━\u001b[0m\u001b[37m\u001b[0m \u001b[1m2s\u001b[0m 15ms/step - accuracy: 0.9769 - loss: 0.1018 - val_accuracy: 0.9843 - val_loss: 0.0680\n",
      "Epoch 3/5\n",
      "\u001b[1m112/112\u001b[0m \u001b[32m━━━━━━━━━━━━━━━━━━━━\u001b[0m\u001b[37m\u001b[0m \u001b[1m2s\u001b[0m 15ms/step - accuracy: 0.9908 - loss: 0.0430 - val_accuracy: 0.9854 - val_loss: 0.0457\n",
      "Epoch 4/5\n",
      "\u001b[1m112/112\u001b[0m \u001b[32m━━━━━━━━━━━━━━━━━━━━\u001b[0m\u001b[37m\u001b[0m \u001b[1m2s\u001b[0m 16ms/step - accuracy: 0.9938 - loss: 0.0256 - val_accuracy: 0.9854 - val_loss: 0.0508\n",
      "Epoch 5/5\n",
      "\u001b[1m112/112\u001b[0m \u001b[32m━━━━━━━━━━━━━━━━━━━━\u001b[0m\u001b[37m\u001b[0m \u001b[1m2s\u001b[0m 15ms/step - accuracy: 0.9952 - loss: 0.0213 - val_accuracy: 0.9843 - val_loss: 0.0601\n",
      "\u001b[1m35/35\u001b[0m \u001b[32m━━━━━━━━━━━━━━━━━━━━\u001b[0m\u001b[37m\u001b[0m \u001b[1m1s\u001b[0m 12ms/step\n",
      "LSTM\n",
      "Acurácia: 0.9829596412556054\n",
      "F1: 0.9342560553633218\n"
     ]
    }
   ],
   "source": [
    "lstm = Sequential([\n",
    "    Embedding(1000, 32, input_length=50),\n",
    "    LSTM(32),\n",
    "    Dense(1, activation='sigmoid')\n",
    "])\n",
    "lstm.compile(optimizer='adam', loss='binary_crossentropy', metrics=['accuracy'])\n",
    "lstm.fit(X_train_nn, y_train_nn, epochs=5, validation_split=0.2)\n",
    "\n",
    "# Avaliação\n",
    "y_pred_lstm = (lstm.predict(X_test_nn) > 0.5).astype('int32')\n",
    "print('LSTM')\n",
    "print('Acurácia:', accuracy_score(y_test_nn, y_pred_lstm))\n",
    "print('F1:', f1_score(y_test_nn, y_pred_lstm))\n"
   ]
  },
  {
   "cell_type": "markdown",
   "metadata": {},
   "source": [
    "## 6. Visualização Comparativa"
   ]
  },
  {
   "cell_type": "code",
   "execution_count": 15,
   "metadata": {},
   "outputs": [
    {
     "data": {
      "image/png": "[encoded data removed]",
      "text/plain": [
       "<Figure size 640x480 with 1 Axes>"
      ]
     },
     "metadata": {},
     "output_type": "display_data"
    }
   ],
   "source": [
    "results = {\n",
    "    'Modelo': ['LogReg', 'MLP', 'LSTM'],\n",
    "    'Acurácia': [0.97, accuracy_score(y_test_nn, y_pred_mlp), accuracy_score(y_test_nn, y_pred_lstm)],\n",
    "    'F1': [0.96, f1_score(y_test_nn, y_pred_mlp), f1_score(y_test_nn, y_pred_lstm)]\n",
    "}\n",
    "df_results = pd.DataFrame(results)\n",
    "df_results.set_index('Modelo').plot(kind='bar', ylim=(0,1))\n",
    "plt.title('Comparação de Modelos')\n",
    "plt.ylabel('Score')\n",
    "plt.show()\n"
   ]
  }
 ],
 "metadata": {
  "kernelspec": {
   "display_name": "Python 3",
   "language": "python",
   "name": "python3"
  },
  "language_info": {
   "codemirror_mode": {
    "name": "ipython",
    "version": 3
   },
   "file_extension": ".py",
   "mimetype": "text/x-python",
   "name": "python",
   "nbconvert_exporter": "python",
   "pygments_lexer": "ipython3",
   "version": "3.11.0"
  }
 },
 "nbformat": 4,
 "nbformat_minor": 2
}
